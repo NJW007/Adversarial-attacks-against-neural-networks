{
  "nbformat": 4,
  "nbformat_minor": 0,
  "metadata": {
    "colab": {
      "name": "L2_attack.ipynb",
      "version": "0.3.2",
      "provenance": [],
      "collapsed_sections": []
    },
    "kernelspec": {
      "name": "python3",
      "display_name": "Python 3"
    }
  },
  "cells": [
    {
      "metadata": {
        "id": "D5dktUxBm1_j",
        "colab_type": "code",
        "colab": {}
      },
      "cell_type": "code",
      "source": [
        "# Importing libraries and dataset\n",
        "\n",
        "import tensorflow as tf\n",
        "from tensorflow.keras import layers\n",
        "from keras.datasets import mnist\n",
        "from keras.utils import to_categorical\n",
        "from matplotlib import pyplot as plt\n",
        "import numpy as np\n",
        "from tensorflow.keras.callbacks import TensorBoard, EarlyStopping\n",
        "from __future__ import print_function\n",
        "\n",
        "(x_train, y_train), (x_test, y_test) = mnist.load_data()\n",
        "x_train = x_train.reshape([-1,28,28,1])\n",
        "x_train = x_train.astype('float32')\n",
        "x_test = x_test.reshape([-1,28,28,1])\n",
        "x_test = x_test.astype('float32')\n",
        "x_train /= 255\n",
        "x_test /= 255\n",
        "\n",
        "y_train = to_categorical(y_train, 10)\n",
        "y_test = to_categorical(y_test, 10)\n"
      ],
      "execution_count": 0,
      "outputs": []
    },
    {
      "metadata": {
        "id": "M8Qc4vM6o_dQ",
        "colab_type": "code",
        "colab": {}
      },
      "cell_type": "code",
      "source": [
        "# Considering a test image for the attack\n",
        "\n",
        "test_id = 10\n",
        "Test_image = x_train[test_id].reshape([1,28,28,1])\n",
        "True_label = np.argmax(y_train[test_id,:])\n",
        "print (True_label)\n"
      ],
      "execution_count": 0,
      "outputs": []
    },
    {
      "metadata": {
        "id": "VriRnWuCLnNe",
        "colab_type": "code",
        "colab": {}
      },
      "cell_type": "code",
      "source": [
        "def Load_Model():\n",
        "  model = tf.keras.models.load_model('my_MNIST.h5',custom_objects =None,compile = True)\n",
        "  return model"
      ],
      "execution_count": 0,
      "outputs": []
    },
    {
      "metadata": {
        "id": "nsDlHp51Nfqh",
        "colab_type": "code",
        "colab": {}
      },
      "cell_type": "code",
      "source": [
        "class Construct_Graph_Objfn():\n",
        "  def __init__(self,model,Confidence, session):\n",
        "    self.session = session\n",
        "    self.orig_x = tf.placeholder(dtype = tf.float32, shape=(1,28,28,1), name='orig_x') #img for finding its corresponding adversary\n",
        "    self.target_class = tf.placeholder(dtype = tf.float32, shape=(10)) #target the adversary wants to attain\n",
        "    self.const = tf.placeholder(dtype = tf.float32) #Since const value keeps changing based on binary search (Hence it can neither be a tf.constant nor tf.variable )\n",
        "    \n",
        "    #Variable transformation based Box constraint\n",
        "    self.w = tf.Variable(tf.zeros([1,28,28,1], dtype = tf.float32))\n",
        "    self.winit = self.w.initializer\n",
        "    self.new_x = 0.5*(tf.tanh(self.w) + tf.ones_like(self.w)) \n",
        "    \n",
        "    #construting ops for the objective function\n",
        "    self.Confidence = Confidence\n",
        "    self.L2_dist = tf.norm(tf.reshape(self.new_x - self.orig_x, [-1]), ord = 'euclidean')\n",
        "    self.F_of_x = model(self.new_x)\n",
        "    before_conf = tf.reduce_max(self.F_of_x*(1-self.target_class)) - tf.reduce_sum(self.F_of_x*self.target_class)\n",
        "    target_loss = tf.maximum(before_conf, -self.Confidence)\n",
        "    self.loss = tf.square(self.L2_dist) + self.const*target_loss\n",
        "    self.opt = tf.train.AdamOptimizer(0.1)\n",
        "    self.optim = self.opt.minimize(self.loss, var_list = [self.w])\n",
        "   \n",
        "  #initializes optimizer variables and function variables\n",
        "  def Initialize_vars(self):\n",
        "    self.session.run(self.winit)\n",
        "    self.session.run(tf.variables_initializer(self.opt.variables()))   \n",
        "    \n",
        "  #(i)For each const, gradient descent runs for 10000 iteration\n",
        "  #(ii)Then the const is updated based on whether or not adversary has achieved target label (Using binary search)\n",
        "  def TwoD_Optim(self,iterations,initial_const,upper_bound,lower_bound,Test_image,t_label,bs_steps):    \n",
        "    const_var = initial_const\n",
        "    for bin_search in range(bs_steps):\n",
        "    \n",
        "      for iter in range(iterations):\n",
        "        _,NEW_X, L2_DIST, PREDICTION, LOSS = self.session.run([self.optim, self.new_x, self.L2_dist, self.F_of_x, self.loss ],\n",
        "                                                            {self.const:const_var,self.orig_x: Test_image ,self.target_class: t_label})\n",
        "        if ((iter % 500)==0):\n",
        "          print (iter,\"   \", L2_DIST)\n",
        "          \n",
        "      #update the constant with binary search\n",
        "      if (np.argmax(PREDICTION) == np.argmax(t_label)):\n",
        "        #it is a success, decrease the c value to bring adversary closer to the original image\n",
        "        print (\"<------ Const:\",const_var)\n",
        "        upper_bound = np.minimum(upper_bound, const_var)\n",
        "        const_var = (lower_bound + const_var)/2\n",
        "        \n",
        "      else: #failure, prioritize attaining the target label\n",
        "        print (\"------->Const:\",const_var)\n",
        "        lower_bound = np.maximum(lower_bound, const_var)\n",
        "        const_var = (upper_bound + const_var)/2   \n",
        "    \n",
        "    "
      ],
      "execution_count": 0,
      "outputs": []
    },
    {
      "metadata": {
        "id": "r74QA6F9U1-S",
        "colab_type": "code",
        "colab": {}
      },
      "cell_type": "code",
      "source": [
        "with tf.Session() as sess:\n",
        "  Confidence = 0\n",
        "  model = Load_Model() #trained Deep Net\n",
        "  AG = Construct_Graph_Objfn(model,Confidence, sess) #AG: Attack_Graph\n",
        "  \n",
        "  #initialize uninitialized variables  \n",
        "  AG.Initialize_vars()\n",
        "  \n",
        "  #some other variables (non-tensors)\n",
        "  iterations = 10000\n",
        "  initial_const = 1e10\n",
        "  upper_bound = 1e10\n",
        "  lower_bound = 0  \n",
        "  t_label = [1,0,0,0,0,0,0,0,0,0]\n",
        "  bs_steps = 20\n",
        "  \n",
        "  #perform gradient descent with Adam optimizer\n",
        "  AG.TwoD_Optim(iterations,initial_const,upper_bound,lower_bound,Test_image,t_label,bs_steps)\n",
        "  \n",
        "  "
      ],
      "execution_count": 0,
      "outputs": []
    }
  ]
}