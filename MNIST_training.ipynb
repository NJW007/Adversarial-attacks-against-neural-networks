{
  "nbformat": 4,
  "nbformat_minor": 0,
  "metadata": {
    "colab": {
      "name": "MNIST_training.ipynb",
      "version": "0.3.2",
      "provenance": [],
      "collapsed_sections": []
    },
    "kernelspec": {
      "name": "python3",
      "display_name": "Python 3"
    }
  },
  "cells": [
    {
      "metadata": {
        "id": "PYEFkSw9RlAw",
        "colab_type": "code",
        "colab": {}
      },
      "cell_type": "code",
      "source": [
        "import tensorflow as tf\n",
        "from tensorflow.keras import layers\n",
        "from keras.datasets import mnist\n",
        "from keras.utils import to_categorical\n",
        "from matplotlib import pyplot as plt"
      ],
      "execution_count": 0,
      "outputs": []
    },
    {
      "metadata": {
        "id": "j1U7ABGjvIZ0",
        "colab_type": "code",
        "colab": {}
      },
      "cell_type": "code",
      "source": [
        "(x_train, y_train), (x_test, y_test) = mnist.load_data()\n",
        "print (type(x_train))\n",
        "model = tf.keras.Sequential()\n",
        "model.add(layers.Conv2D(32, (3,3), activation = 'relu' ,input_shape = (28, 28, 1) ))\n",
        "model.add(layers.Conv2D(32, 3, activation = 'relu' ))\n",
        "model.add(layers.MaxPooling2D(pool_size = 2))\n",
        "\n",
        "model.add(layers.Conv2D(64, 3, activation = 'relu' ))\n",
        "model.add(layers.Conv2D(64, 3, activation = 'relu' ))\n",
        "model.add(layers.MaxPooling2D(pool_size = 2))\n",
        "\n",
        "model.add(layers.Flatten())\n",
        "model.add(layers.Dense(200, activation = 'relu'))\n",
        "model.add(layers.Dropout(0.5))\n",
        "model.add(layers.Dense(200, activation = 'relu'))\n",
        "model.add(layers.Dropout(0.5))\n",
        "model.add(layers.Dense(10, activation = 'softmax'))\n",
        "\n",
        "sgd = tf.keras.optimizers.SGD(lr = 0.01)\n",
        "model.compile(loss='categorical_crossentropy',\n",
        "              optimizer=sgd,\n",
        "              metrics=['accuracy'])\n",
        "\n",
        "x_train = x_train.reshape([-1,28,28,1])\n",
        "x_train = x_train.astype('float32')\n",
        "x_test = x_test.reshape([-1,28,28,1])\n",
        "x_test = x_test.astype('float32')\n",
        "x_train /= 255\n",
        "x_test /= 255\n",
        "\n",
        "y_train = to_categorical(y_train, 10)\n",
        "y_test = to_categorical(y_test, 10)\n",
        "\n",
        "\n",
        "model.fit(x_train, y_train,\n",
        "              batch_size=128,\n",
        "              epochs=50,\n",
        "              validation_data=(x_test, y_test),\n",
        "              shuffle=True)\n"
      ],
      "execution_count": 0,
      "outputs": []
    }    
  ]
}
